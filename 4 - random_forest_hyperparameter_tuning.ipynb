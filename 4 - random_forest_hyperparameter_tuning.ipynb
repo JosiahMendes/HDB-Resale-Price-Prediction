{
 "cells": [
  {
   "attachments": {},
   "cell_type": "markdown",
   "metadata": {},
   "source": [
    "# Random Forest Hyperparameter Tuning"
   ]
  },
  {
   "cell_type": "code",
   "execution_count": 12,
   "metadata": {},
   "outputs": [],
   "source": [
    "# Import Libraries\n",
    "import pandas as pd\n",
    "import numpy as np\n",
    "import matplotlib.pyplot as plt\n",
    "import seaborn as sns\n",
    "\n",
    "from sklearn.ensemble import RandomForestRegressor\n",
    "from sklearn.metrics import mean_squared_error, mean_absolute_error\n",
    "import math"
   ]
  },
  {
   "cell_type": "code",
   "execution_count": 13,
   "metadata": {},
   "outputs": [],
   "source": [
    "# Import train and validation data\n",
    "y_train = pd.read_pickle('dataframes/y-train.pkl')\n",
    "y_val = pd.read_pickle('dataframes/y-val.pkl')\n",
    "X_train = pd.read_pickle('dataframes/x-train.pkl')\n",
    "X_val = pd.read_pickle('dataframes/x-val.pkl')"
   ]
  },
  {
   "cell_type": "code",
   "execution_count": null,
   "metadata": {},
   "outputs": [],
   "source": [
    "# Number of Estimators Hyperparameter Tuning\n",
    "errors = []\n",
    "growing_rf = RandomForestRegressor(n_estimators=1, n_jobs=6,  \n",
    "                                    warm_start=True, random_state=42)\n",
    "for i in [1, 5, 10, 20, 25, 30, 40, 50, 60, 70, 80, 100, 150, 200, 250]:\n",
    "    growing_rf.n_estimators=i\n",
    "    growing_rf.fit(X_train, y_train)\n",
    "    predicted = growing_rf.predict(X_val)\n",
    "    errors.append(mean_squared_error(y_val, predicted))\n",
    "    print('Iteration: ', i, 'RMSE Loss: ', math.sqrt(errors[-1]), ' MAE: ', mean_absolute_error(y_val, predicted))"
   ]
  },
  {
   "cell_type": "code",
   "execution_count": null,
   "metadata": {},
   "outputs": [],
   "source": [
    "# Max Depth Hyperparameter Tuning\n",
    "from sklearn.ensemble import RandomForestRegresso\n",
    "\n",
    "errors = []\n",
    "for i in [1, 5, 10, 15, 20, 25,30, 40, 60, 70]:\n",
    "    growing_rf = RandomForestRegressor(n_estimators=75, n_jobs=6, random_state=42, max_depth=i)\n",
    "    growing_rf.fit(X_train, y_train)\n",
    "    predicted = growing_rf.predict(X_val)\n",
    "    errors.append(mean_squared_error(y_val, predicted))\n",
    "    print('Iteration: ', i, 'RMSE Loss: ', math.sqrt(errors[-1]), ' MAE: ', mean_absolute_error(y_val, predicted))"
   ]
  }
 ],
 "metadata": {
  "kernelspec": {
   "display_name": "Python 3",
   "language": "python",
   "name": "python3"
  },
  "language_info": {
   "codemirror_mode": {
    "name": "ipython",
    "version": 3
   },
   "file_extension": ".py",
   "mimetype": "text/x-python",
   "name": "python",
   "nbconvert_exporter": "python",
   "pygments_lexer": "ipython3",
   "version": "3.10.8"
  },
  "orig_nbformat": 4
 },
 "nbformat": 4,
 "nbformat_minor": 2
}
