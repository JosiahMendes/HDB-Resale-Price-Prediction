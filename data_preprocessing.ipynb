{
 "cells": [
  {
   "cell_type": "code",
   "execution_count": 176,
   "metadata": {},
   "outputs": [],
   "source": [
    "# Import Resale-Flat-Prices.csv\n",
    "import pandas as pd\n",
    "import numpy as np\n",
    "import seaborn as sns\n",
    "import matplotlib.pyplot as plt\n",
    "import math as math\n",
    "df = pd.read_csv(\"data/resale-flat-prices-sers-removed.csv\", low_memory=False)"
   ]
  },
  {
   "cell_type": "code",
   "execution_count": 177,
   "metadata": {},
   "outputs": [
    {
     "data": {
      "text/html": [
       "<div>\n",
       "<style scoped>\n",
       "    .dataframe tbody tr th:only-of-type {\n",
       "        vertical-align: middle;\n",
       "    }\n",
       "\n",
       "    .dataframe tbody tr th {\n",
       "        vertical-align: top;\n",
       "    }\n",
       "\n",
       "    .dataframe thead th {\n",
       "        text-align: right;\n",
       "    }\n",
       "</style>\n",
       "<table border=\"1\" class=\"dataframe\">\n",
       "  <thead>\n",
       "    <tr style=\"text-align: right;\">\n",
       "      <th></th>\n",
       "      <th>month</th>\n",
       "      <th>town</th>\n",
       "      <th>flat_type</th>\n",
       "      <th>block</th>\n",
       "      <th>street_name</th>\n",
       "      <th>storey_range</th>\n",
       "      <th>floor_area_sqm</th>\n",
       "      <th>flat_model</th>\n",
       "      <th>lease_commence_date</th>\n",
       "      <th>resale_price</th>\n",
       "    </tr>\n",
       "  </thead>\n",
       "  <tbody>\n",
       "    <tr>\n",
       "      <th>0</th>\n",
       "      <td>1990-01</td>\n",
       "      <td>ANG MO KIO</td>\n",
       "      <td>3 ROOM</td>\n",
       "      <td>216</td>\n",
       "      <td>ANG MO KIO AVE 1</td>\n",
       "      <td>04 TO 06</td>\n",
       "      <td>73.0</td>\n",
       "      <td>NEW GENERATION</td>\n",
       "      <td>1976</td>\n",
       "      <td>47200.0</td>\n",
       "    </tr>\n",
       "    <tr>\n",
       "      <th>1</th>\n",
       "      <td>1990-01</td>\n",
       "      <td>ANG MO KIO</td>\n",
       "      <td>3 ROOM</td>\n",
       "      <td>211</td>\n",
       "      <td>ANG MO KIO AVE 3</td>\n",
       "      <td>01 TO 03</td>\n",
       "      <td>67.0</td>\n",
       "      <td>NEW GENERATION</td>\n",
       "      <td>1977</td>\n",
       "      <td>46000.0</td>\n",
       "    </tr>\n",
       "  </tbody>\n",
       "</table>\n",
       "</div>"
      ],
      "text/plain": [
       "     month        town flat_type block       street_name storey_range  \\\n",
       "0  1990-01  ANG MO KIO    3 ROOM   216  ANG MO KIO AVE 1     04 TO 06   \n",
       "1  1990-01  ANG MO KIO    3 ROOM   211  ANG MO KIO AVE 3     01 TO 03   \n",
       "\n",
       "   floor_area_sqm      flat_model  lease_commence_date  resale_price  \n",
       "0            73.0  NEW GENERATION                 1976       47200.0  \n",
       "1            67.0  NEW GENERATION                 1977       46000.0  "
      ]
     },
     "execution_count": 177,
     "metadata": {},
     "output_type": "execute_result"
    }
   ],
   "source": [
    "df.head(2)"
   ]
  },
  {
   "cell_type": "code",
   "execution_count": 178,
   "metadata": {},
   "outputs": [],
   "source": [
    "# df[\"year\"] = df[\"month\"].str.split(\"-\").str[0]\n",
    "# df[\"year\"] = df[\"year\"].astype(int)\n",
    "# get first index where year > 2021\n",
    "# df[df[\"year\"] > 2020].index[0]"
   ]
  },
  {
   "attachments": {},
   "cell_type": "markdown",
   "metadata": {},
   "source": [
    "# Data Cleaning"
   ]
  },
  {
   "cell_type": "code",
   "execution_count": 179,
   "metadata": {},
   "outputs": [
    {
     "data": {
      "text/plain": [
       "array(['3 ROOM', '4 ROOM', '5 ROOM', '2 ROOM', 'EXECUTIVE', '1 ROOM',\n",
       "       'MULTI-GENERATION'], dtype=object)"
      ]
     },
     "execution_count": 179,
     "metadata": {},
     "output_type": "execute_result"
    }
   ],
   "source": [
    "# Combine Multi-Generation and Multi Generation categories in flat type\n",
    "df[\"flat_type\"] = df[\"flat_type\"].replace(\"MULTI GENERATION\", \"MULTI-GENERATION\")\n",
    "df[\"flat_type\"].unique()"
   ]
  },
  {
   "cell_type": "code",
   "execution_count": 180,
   "metadata": {},
   "outputs": [
    {
     "data": {
      "text/plain": [
       "array(['NEW GENERATION', 'IMPROVED', 'MODEL A', 'STANDARD', 'SIMPLIFIED',\n",
       "       'MODEL A MAISONETTE', 'APARTMENT', 'MAISONETTE', 'TERRACE',\n",
       "       '2 ROOM', 'IMPROVED MAISONETTE', 'MULTI-GENERATION',\n",
       "       'PREMIUM APARTMENT', 'ADJOINED FLAT', 'PREMIUM MAISONETTE',\n",
       "       'MODEL A2', 'DBSS', 'TYPE S1', 'TYPE S2', 'PREMIUM APARTMENT LOFT',\n",
       "       '3 GEN'], dtype=object)"
      ]
     },
     "execution_count": 180,
     "metadata": {},
     "output_type": "execute_result"
    }
   ],
   "source": [
    "# Clean flat model column by capitalising and renaming\n",
    "df[\"flat_model\"] = df[\"flat_model\"].replace(\"2-room\", \"2-ROOM\")\n",
    "df[\"flat_model\"] = df[\"flat_model\"].replace(\"2-ROOM\", \"2 ROOM\")\n",
    "df[\"flat_model\"] = df[\"flat_model\"].replace(\"3Gen\", \"3 GEN\")\n",
    "df[\"flat_model\"] = df[\"flat_model\"].replace(\"Adjoined flat\", \"ADJOINED FLAT\")\n",
    "df[\"flat_model\"] = df[\"flat_model\"].replace(\"Apartment\", \"APARTMENT\")\n",
    "df[\"flat_model\"] = df[\"flat_model\"].replace(\"Improved\", \"IMPROVED\")\n",
    "df[\"flat_model\"] = df[\"flat_model\"].replace(\"Improved-Maisonette\", \"IMPROVED-MAISONETTE\")\n",
    "df[\"flat_model\"] = df[\"flat_model\"].replace(\"IMPROVED-MAISONETTE\", \"IMPROVED MAISONETTE\")\n",
    "df[\"flat_model\"] = df[\"flat_model\"].replace(\"Maisonette\", \"MAISONETTE\")\n",
    "df[\"flat_model\"] = df[\"flat_model\"].replace(\"Model A\", \"MODEL A\")\n",
    "df[\"flat_model\"] = df[\"flat_model\"].replace(\"Model A-Maisonette\", \"MODEL A-MAISONETTE\")\n",
    "df[\"flat_model\"] = df[\"flat_model\"].replace(\"MODEL A-MAISONETTE\", \"MODEL A MAISONETTE\")\n",
    "df[\"flat_model\"] = df[\"flat_model\"].replace(\"New Generation\", \"NEW GENERATION\")\n",
    "df[\"flat_model\"] = df[\"flat_model\"].replace(\"Model A2\", \"MODEL A2\")\n",
    "df[\"flat_model\"] = df[\"flat_model\"].replace(\"MULTI GENERATION\", \"MULTI-GENERATION\")\n",
    "df[\"flat_model\"] = df[\"flat_model\"].replace(\"Multi Generation\", \"MULTI-GENERATION\")\n",
    "df[\"flat_model\"] = df[\"flat_model\"].replace(\"Premium Apartment\", \"PREMIUM APARTMENT\")\n",
    "df[\"flat_model\"] = df[\"flat_model\"].replace(\"Premium Apartment Loft\", \"PREMIUM APARTMENT LOFT\")\n",
    "df[\"flat_model\"] = df[\"flat_model\"].replace(\"Premium Maisonette\", \"PREMIUM MAISONETTE\")\n",
    "df[\"flat_model\"] = df[\"flat_model\"].replace(\"Simplified\", \"SIMPLIFIED\")\n",
    "df[\"flat_model\"] = df[\"flat_model\"].replace(\"Standard\", \"STANDARD\")\n",
    "df[\"flat_model\"] = df[\"flat_model\"].replace(\"Terrace\", \"TERRACE\")\n",
    "df[\"flat_model\"] = df[\"flat_model\"].replace(\"Type S1\", \"TYPE S1\")\n",
    "df[\"flat_model\"] = df[\"flat_model\"].replace(\"Type S2\", \"TYPE S2\")\n",
    "\n",
    "df[\"flat_model\"].unique()"
   ]
  },
  {
   "cell_type": "code",
   "execution_count": 181,
   "metadata": {},
   "outputs": [
    {
     "name": "stdout",
     "output_type": "stream",
     "text": [
      "<class 'pandas.core.frame.DataFrame'>\n",
      "RangeIndex: 878934 entries, 0 to 878933\n",
      "Data columns (total 10 columns):\n",
      " #   Column               Non-Null Count   Dtype  \n",
      "---  ------               --------------   -----  \n",
      " 0   month                878934 non-null  object \n",
      " 1   town                 878934 non-null  object \n",
      " 2   flat_type            878934 non-null  object \n",
      " 3   block                878934 non-null  object \n",
      " 4   street_name          878934 non-null  object \n",
      " 5   storey_range         878934 non-null  object \n",
      " 6   floor_area_sqm       878934 non-null  float64\n",
      " 7   flat_model           878934 non-null  object \n",
      " 8   lease_commence_date  878934 non-null  int64  \n",
      " 9   resale_price         878934 non-null  float64\n",
      "dtypes: float64(2), int64(1), object(7)\n",
      "memory usage: 67.1+ MB\n"
     ]
    }
   ],
   "source": [
    "df.info()"
   ]
  },
  {
   "attachments": {},
   "cell_type": "markdown",
   "metadata": {},
   "source": [
    "# Data Transformation"
   ]
  },
  {
   "cell_type": "code",
   "execution_count": 182,
   "metadata": {},
   "outputs": [],
   "source": [
    "# Convert lease_commence_date to remaining lease at point of transaction\n",
    "# lease commencing 1976 and sale in 1990 =  1976+99-1990 = 85 years remaining\n",
    "df[\"remaining_lease\"] = (df[\"lease_commence_date\"] + 99 - df[\"month\"].str[:4].astype(int))/99\n",
    "df = df.drop(columns=['lease_commence_date'])\n"
   ]
  },
  {
   "cell_type": "code",
   "execution_count": 183,
   "metadata": {},
   "outputs": [],
   "source": [
    "# Calculate inflated_adjusted_price \n",
    "hdb_resale_price_index = pd.read_csv(\"data/housing-and-development-board-resale-price-index-1q2009-100-monthly.csv\", low_memory=False, index_col=0)\n",
    "current_index = hdb_resale_price_index.tail(1)[\"index\"].values[0]\n",
    "\n",
    "# def get_adjusted_price(row):\n",
    "#     time = row[\"month\"].split(\"-\")\n",
    "#     quarter = time[0] + \"-Q\" + str((int(time[1]) - 1) // 3 + 1)\n",
    "#     index = hdb_resale_price_index.loc[[quarter]].values[0][0]\n",
    "\n",
    "# \t# get inflation adjusted price\n",
    "#     adjusted_price = row[\"resale_price\"] * (current_index / index)\n",
    "#     return adjusted_price\n",
    "\n",
    "# df[\"adjusted_price\"] = df.apply(get_adjusted_price, axis=1)\n",
    "\n",
    "# join with hdb_resale_price_index\n",
    "df = df.join(hdb_resale_price_index, on=\"month\", how=\"left\", rsuffix=\"_index\")\n",
    "df[\"adjusted_price\"] = df[\"resale_price\"] * (current_index / df[\"index\"])\n",
    "df.drop(columns=[\"index\", \"resale_price\", \"month\"], inplace=True)\n"
   ]
  },
  {
   "cell_type": "code",
   "execution_count": 184,
   "metadata": {},
   "outputs": [],
   "source": [
    "# Add Region Data\n",
    "# Central = ['BISHAN', 'BUKIT MERAH', 'BUKIT TIMAH', 'CENTRAL AREA', 'GEYLANG', 'KALLANG/WHAMPOA', 'MARINE PARADE', 'QUEENSTOWN', 'TOA PAYOH']\n",
    "# East = ['BEDOK','PASIR RIS', 'TAMPINES']\n",
    "# West = ['BUKIT BATOK', 'BUKIT PANJANG', 'CHOA CHU KANG', 'CLEMENTI', 'JURONG EAST', 'JURONG WEST']\n",
    "# North East = ['ANG MO KIO','HOUGANG', 'PUNGGOL', 'SENGKANG','SERANGOON']\n",
    "# North = ['SEMBAWANG', 'WOODLANDS', 'YISHUN',]\n",
    "\n",
    "def get_region(row):\n",
    "\ttown = row[\"town\"]\n",
    "\tif town in ['BISHAN', 'BUKIT MERAH', 'BUKIT TIMAH', 'CENTRAL AREA', 'GEYLANG', 'KALLANG/WHAMPOA', 'MARINE PARADE', 'QUEENSTOWN', 'TOA PAYOH']:\n",
    "\t\treturn \"CENTRAL\"\n",
    "\telif town in ['BEDOK','PASIR RIS', 'TAMPINES']:\n",
    "\t\treturn \"EAST\"\n",
    "\telif town in ['BUKIT BATOK', 'BUKIT PANJANG', 'CHOA CHU KANG', 'CLEMENTI', 'JURONG EAST', 'JURONG WEST']:\n",
    "\t\treturn \"WEST\"\n",
    "\telif town in ['ANG MO KIO','HOUGANG', 'PUNGGOL', 'SENGKANG','SERANGOON']:\n",
    "\t\treturn \"NORTH-EAST\"\n",
    "\telif town in ['SEMBAWANG', 'WOODLANDS', 'YISHUN']:\n",
    "\t\treturn \"NORTH\"\n",
    "       \n",
    "df[\"region\"] = df.apply(get_region, axis=1)\n"
   ]
  },
  {
   "cell_type": "code",
   "execution_count": 185,
   "metadata": {},
   "outputs": [],
   "source": [
    "# Add coordinate data from block_street_name_coords.json\n",
    "df[\"block_street_name\"] = df[\"block\"].astype(str) + \" \" + df[\"street_name\"].astype(str)\n",
    "df = df.drop(columns=['block', 'street_name'])\n",
    "block_street_name_coords = pd.read_json(\"data/block_street_name_coords.json\")\n",
    "block_street_name_coords = block_street_name_coords.transpose()\n",
    "\n",
    "df = df.join(block_street_name_coords, on=\"block_street_name\", how=\"left\", rsuffix=\"_coords\")\n",
    "df.drop(columns=[\"block_street_name\"], inplace=True)"
   ]
  },
  {
   "cell_type": "code",
   "execution_count": 186,
   "metadata": {},
   "outputs": [],
   "source": [
    "# Add distance from Downtown Core planning area (CBD)\n",
    "# Downtown Core planning area (CBD) = 1.286667, 103.853611\n",
    "dg_mrt_lat = np.radians(1.286667)\n",
    "dg_mrt_long = np.radians(103.853611)\n",
    "\n",
    "df['distance_from_cbd'] = 6367 * 2 * np.arcsin(np.sqrt(np.sin((np.radians(df['latitude']) - dg_mrt_lat)/2)**2 + math.cos(math.radians(37.2175900)) * np.cos(np.radians(df['latitude'])) * np.sin((np.radians(df['longitude']) - dg_mrt_long)/2)**2))"
   ]
  },
  {
   "cell_type": "code",
   "execution_count": 187,
   "metadata": {},
   "outputs": [],
   "source": [
    "# Transform storey_range to median of range (e.g. 01 TO 03 = 2)\n",
    "def convert_to_median(row):\n",
    "\tstorey_range = row[\"storey_range\"].split(\" TO \")\n",
    "\tmedian = (int(storey_range[0]) + int(storey_range[1])) / 2\n",
    "\treturn median\n",
    "\n",
    "df[\"median_storey\"] = df.apply(convert_to_median, axis=1)\n",
    "df = df.drop(columns=['storey_range'])"
   ]
  },
  {
   "cell_type": "code",
   "execution_count": 188,
   "metadata": {},
   "outputs": [],
   "source": [
    "# Transform flat_type to ordinal encoding, town and flat_model to one-hot encoding\n",
    "from sklearn.preprocessing import OrdinalEncoder\n",
    "from sklearn.preprocessing import OneHotEncoder \n",
    "from sklearn.compose import ColumnTransformer \n",
    "\n",
    "cols = \t[\"town\", \"region\", \"longitude\", \"latitude\",\"distance_from_cbd\",\n",
    "         \"flat_type\", \"flat_model\", \"floor_area_sqm\", \"median_storey\", \"remaining_lease\",\n",
    "         \"adjusted_price\"\n",
    "    \t]\n",
    "df = df[cols]\n",
    "\n",
    "pipeline = ColumnTransformer([ \n",
    "(\"o\", OrdinalEncoder(), [\"flat_type\"]), \n",
    "(\"n\", OneHotEncoder(sparse_output=False), [\"town\", \"flat_model\", \"region\"]), \n",
    "], remainder='passthrough', verbose_feature_names_out=False) \n",
    "pipeline.set_output(transform=\"pandas\")\n",
    "df = pipeline.fit_transform(df)"
   ]
  },
  {
   "attachments": {},
   "cell_type": "markdown",
   "metadata": {},
   "source": [
    "# Split Train-Test-Validation"
   ]
  },
  {
   "cell_type": "code",
   "execution_count": 189,
   "metadata": {},
   "outputs": [],
   "source": [
    "# Split into train and test training data = pre-2021, test data = 2021 onwards\n",
    "# test equal rows 819558 onward\n",
    "test = df.iloc[819558:]\n",
    "x_test = test.drop(columns=[\"adjusted_price\"])\n",
    "y_test = test[\"adjusted_price\"]\n",
    "\n",
    "train = df.iloc[:819558]\n",
    "x_train = train.drop(columns=[\"adjusted_price\"])\n",
    "y_train = train[\"adjusted_price\"]"
   ]
  },
  {
   "cell_type": "code",
   "execution_count": 196,
   "metadata": {},
   "outputs": [
    {
     "name": "stdout",
     "output_type": "stream",
     "text": [
      "R-sq of model:  0.8328513670534365\n",
      "RMSE: 86066.31\n",
      "R-sq of predictions:  0.7881633505883994\n"
     ]
    }
   ],
   "source": [
    "from sklearn.linear_model import LinearRegression \n",
    "from sklearn.metrics import mean_squared_error, r2_score \n",
    " \n",
    "lr = LinearRegression() \n",
    "lr.fit(x_train, y_train) \n",
    "print(\"R-sq of model: \", lr.score(x_train, y_train)) \n",
    "pred = lr.predict(x_test) \n",
    "print(\"RMSE: %.2f\" % mean_squared_error(y_test, pred, squared=False)) \n",
    "print(\"R-sq of predictions: \", r2_score(y_test, pred)) "
   ]
  },
  {
   "cell_type": "code",
   "execution_count": 199,
   "metadata": {},
   "outputs": [
    {
     "name": "stdout",
     "output_type": "stream",
     "text": [
      "<class 'pandas.core.frame.DataFrame'>\n",
      "RangeIndex: 878934 entries, 0 to 878933\n",
      "Data columns (total 60 columns):\n",
      " #   Column                             Non-Null Count   Dtype  \n",
      "---  ------                             --------------   -----  \n",
      " 0   flat_type                          878934 non-null  float64\n",
      " 1   town_ANG MO KIO                    878934 non-null  float64\n",
      " 2   town_BEDOK                         878934 non-null  float64\n",
      " 3   town_BISHAN                        878934 non-null  float64\n",
      " 4   town_BUKIT BATOK                   878934 non-null  float64\n",
      " 5   town_BUKIT MERAH                   878934 non-null  float64\n",
      " 6   town_BUKIT PANJANG                 878934 non-null  float64\n",
      " 7   town_BUKIT TIMAH                   878934 non-null  float64\n",
      " 8   town_CENTRAL AREA                  878934 non-null  float64\n",
      " 9   town_CHOA CHU KANG                 878934 non-null  float64\n",
      " 10  town_CLEMENTI                      878934 non-null  float64\n",
      " 11  town_GEYLANG                       878934 non-null  float64\n",
      " 12  town_HOUGANG                       878934 non-null  float64\n",
      " 13  town_JURONG EAST                   878934 non-null  float64\n",
      " 14  town_JURONG WEST                   878934 non-null  float64\n",
      " 15  town_KALLANG/WHAMPOA               878934 non-null  float64\n",
      " 16  town_MARINE PARADE                 878934 non-null  float64\n",
      " 17  town_PASIR RIS                     878934 non-null  float64\n",
      " 18  town_PUNGGOL                       878934 non-null  float64\n",
      " 19  town_QUEENSTOWN                    878934 non-null  float64\n",
      " 20  town_SEMBAWANG                     878934 non-null  float64\n",
      " 21  town_SENGKANG                      878934 non-null  float64\n",
      " 22  town_SERANGOON                     878934 non-null  float64\n",
      " 23  town_TAMPINES                      878934 non-null  float64\n",
      " 24  town_TOA PAYOH                     878934 non-null  float64\n",
      " 25  town_WOODLANDS                     878934 non-null  float64\n",
      " 26  town_YISHUN                        878934 non-null  float64\n",
      " 27  flat_model_2 ROOM                  878934 non-null  float64\n",
      " 28  flat_model_3 GEN                   878934 non-null  float64\n",
      " 29  flat_model_ADJOINED FLAT           878934 non-null  float64\n",
      " 30  flat_model_APARTMENT               878934 non-null  float64\n",
      " 31  flat_model_DBSS                    878934 non-null  float64\n",
      " 32  flat_model_IMPROVED                878934 non-null  float64\n",
      " 33  flat_model_IMPROVED MAISONETTE     878934 non-null  float64\n",
      " 34  flat_model_MAISONETTE              878934 non-null  float64\n",
      " 35  flat_model_MODEL A                 878934 non-null  float64\n",
      " 36  flat_model_MODEL A MAISONETTE      878934 non-null  float64\n",
      " 37  flat_model_MODEL A2                878934 non-null  float64\n",
      " 38  flat_model_MULTI-GENERATION        878934 non-null  float64\n",
      " 39  flat_model_NEW GENERATION          878934 non-null  float64\n",
      " 40  flat_model_PREMIUM APARTMENT       878934 non-null  float64\n",
      " 41  flat_model_PREMIUM APARTMENT LOFT  878934 non-null  float64\n",
      " 42  flat_model_PREMIUM MAISONETTE      878934 non-null  float64\n",
      " 43  flat_model_SIMPLIFIED              878934 non-null  float64\n",
      " 44  flat_model_STANDARD                878934 non-null  float64\n",
      " 45  flat_model_TERRACE                 878934 non-null  float64\n",
      " 46  flat_model_TYPE S1                 878934 non-null  float64\n",
      " 47  flat_model_TYPE S2                 878934 non-null  float64\n",
      " 48  region_CENTRAL                     878934 non-null  float64\n",
      " 49  region_EAST                        878934 non-null  float64\n",
      " 50  region_NORTH                       878934 non-null  float64\n",
      " 51  region_NORTH-EAST                  878934 non-null  float64\n",
      " 52  region_WEST                        878934 non-null  float64\n",
      " 53  longitude                          878934 non-null  float64\n",
      " 54  latitude                           878934 non-null  float64\n",
      " 55  distance_from_cbd                  878934 non-null  float64\n",
      " 56  floor_area_sqm                     878934 non-null  float64\n",
      " 57  median_storey                      878934 non-null  float64\n",
      " 58  remaining_lease                    878934 non-null  float64\n",
      " 59  adjusted_price                     878934 non-null  float64\n",
      "dtypes: float64(60)\n",
      "memory usage: 402.3 MB\n"
     ]
    }
   ],
   "source": [
    "df.info()"
   ]
  },
  {
   "cell_type": "code",
   "execution_count": 198,
   "metadata": {},
   "outputs": [
    {
     "data": {
      "text/plain": [
       "array([ 9.86197179e+04,  4.33947488e+04, -9.84210814e+03,  4.83466166e+04,\n",
       "        9.29414533e+03, -2.73026235e+02, -6.12282757e+04,  9.20870773e+04,\n",
       "       -3.85289556e+04, -2.71168242e+04,  6.65694623e+04, -5.77715654e+04,\n",
       "       -1.54893651e+04,  1.16264706e+04, -1.55719406e+04, -5.61016201e+04,\n",
       "        8.64782282e+04,  8.78832764e+02, -1.38133662e+04,  1.10093513e+04,\n",
       "       -3.28006576e+04, -5.60319049e+04,  1.98953926e+04,  1.76292494e+04,\n",
       "       -3.49456471e+04, -1.55290826e+04,  2.78347643e+04, -4.27510957e+04,\n",
       "       -5.82076609e-11, -1.70332390e+05, -9.05398387e+04,  1.43016555e+05,\n",
       "       -1.13316796e+05,  6.88201490e+03, -5.60886716e+04, -8.19207788e+04,\n",
       "       -1.58182825e+04, -7.31291977e+04, -1.14237998e+05, -1.07699670e+05,\n",
       "       -8.68777165e+04,  1.82776173e+05,  5.38278750e+04, -1.34616824e+05,\n",
       "       -1.22942232e+05,  2.88788135e+05,  2.57462518e+05,  2.77518222e+05,\n",
       "        5.03004590e+04,  8.66597406e+03, -2.04949760e+04, -2.20444948e+04,\n",
       "       -1.64269624e+04, -1.42746741e+04,  9.82685379e+04, -1.31469868e+04,\n",
       "        3.89490277e+03,  5.44101727e+03,  2.82914838e+05])"
      ]
     },
     "execution_count": 198,
     "metadata": {},
     "output_type": "execute_result"
    }
   ],
   "source": [
    "# print lr.coef_\n",
    "lr.coef_"
   ]
  },
  {
   "cell_type": "code",
   "execution_count": 197,
   "metadata": {},
   "outputs": [
    {
     "name": "stdout",
     "output_type": "stream",
     "text": [
      "R-sq of model:  0.922722432244333\n",
      "RMSE: 67473.23\n",
      "R-sq of predictions:  0.8698039646317295\n"
     ]
    }
   ],
   "source": [
    "# Random Forest\n",
    "from sklearn.ensemble import RandomForestRegressor\n",
    "from sklearn.metrics import mean_squared_error, r2_score\n",
    "\n",
    "rf = RandomForestRegressor(n_estimators=100, max_depth=10, random_state=0)\n",
    "rf.fit(x_train, y_train)\n",
    "print(\"R-sq of model: \", rf.score(x_train, y_train))\n",
    "pred = rf.predict(x_test)\n",
    "print(\"RMSE: %.2f\" % mean_squared_error(y_test, pred, squared=False))\n",
    "print(\"R-sq of predictions: \", r2_score(y_test, pred))"
   ]
  },
  {
   "cell_type": "code",
   "execution_count": null,
   "metadata": {},
   "outputs": [],
   "source": [
    "# plt.figure(figsize=(4, 24))\n",
    "# heatmap = sns.heatmap(df.corr()[['adjusted_price']].sort_values(by='adjusted_price', ascending=False), vmin=-1, vmax=1, annot=True, cmap='BrBG')\n",
    "# heatmap.set_title('Features Correlating with Inflation Adjusted Resale Price', fontdict={'fontsize':12}, pad=16);"
   ]
  },
  {
   "cell_type": "code",
   "execution_count": null,
   "metadata": {},
   "outputs": [],
   "source": [
    "# Visualise adjusted_price per sqm on Singapore map\n",
    "# import matplotlib.colors as colors\n",
    "def visualise(df, vmin, vmax):\n",
    "    \n",
    "    df_sorted = df.sort_values(by='price_per_sqm')\n",
    "    x = df_sorted['longitude']\n",
    "    y = df_sorted['latitude']\n",
    "    c = df_sorted['price_per_sqm'] \n",
    "\n",
    "    plt.rcParams['figure.figsize'] = [20, 10]\n",
    "    plt.rcParams['figure.dpi'] = 100 \n",
    "\n",
    "    # add image of singapore map\n",
    "    img = plt.imread('data/3247px-Singapore_location_map_(main_island).svg.png')\n",
    "    plt.imshow(img, extent=[103.557, 104.131, 1.129, 1.493])\n",
    "\n",
    "    # set axes limits\n",
    "    plt.xlim(103.62, 104.03)\n",
    "    plt.ylim(1.23, 1.465)\n",
    "    \n",
    "\n",
    "    # Set axes titles\n",
    "    plt.xlabel('Longitude')\n",
    "    plt.ylabel('Latitude')\n",
    "\n",
    "    plt.scatter(x, y, s=0.01, c=c, cmap='OrRd', \n",
    "                norm=colors.Normalize(vmin=vmin,vmax=vmax), alpha=0.8)\n",
    "    cbar = plt.colorbar()\n",
    "    cbar.set_label('Price per sqm', rotation=270, labelpad=20)\n",
    "    ax = plt.gca()\n",
    "    ax.set_aspect('equal', adjustable='box')\n",
    "    plt.show()\n",
    "\n",
    "# df2 = df\n",
    "# df2[\"price_per_sqm\"] = df2[\"adjusted_price\"] / df2[\"floor_area_sqm\"]\n",
    "# visualise(df2, df2[\"price_per_sqm\"].quantile(0.10), df2[\"price_per_sqm\"].quantile(0.90))"
   ]
  },
  {
   "attachments": {},
   "cell_type": "markdown",
   "metadata": {},
   "source": [
    "### "
   ]
  }
 ],
 "metadata": {
  "kernelspec": {
   "display_name": "Python 3",
   "language": "python",
   "name": "python3"
  },
  "language_info": {
   "codemirror_mode": {
    "name": "ipython",
    "version": 3
   },
   "file_extension": ".py",
   "mimetype": "text/x-python",
   "name": "python",
   "nbconvert_exporter": "python",
   "pygments_lexer": "ipython3",
   "version": "3.10.8"
  },
  "orig_nbformat": 4,
  "vscode": {
   "interpreter": {
    "hash": "aee8b7b246df8f9039afb4144a1f6fd8d2ca17a180786b69acc140d282b71a49"
   }
  }
 },
 "nbformat": 4,
 "nbformat_minor": 2
}
